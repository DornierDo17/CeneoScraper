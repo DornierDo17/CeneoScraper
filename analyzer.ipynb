{
 "cells": [
  {
   "cell_type": "markdown",
   "metadata": {},
   "source": [
    "### Imports\n"
   ]
  },
  {
   "cell_type": "code",
   "execution_count": 45,
   "metadata": {},
   "outputs": [],
   "source": [
    "import os\n",
    "import pandas as pd\n",
    "import numpy as np\n",
    "import matplotlib.pyplot as plt "
   ]
  },
  {
   "cell_type": "markdown",
   "metadata": {},
   "source": [
    "### Loading opinions from json file "
   ]
  },
  {
   "cell_type": "code",
   "execution_count": null,
   "metadata": {},
   "outputs": [],
   "source": [
    "print(*[filename.split(\".\")[0] for filename in os.listdir(\"opinions\")], sep=\"\\n\")"
   ]
  },
  {
   "cell_type": "code",
   "execution_count": 47,
   "metadata": {},
   "outputs": [],
   "source": [
    "product_id = input(\"Enter product code please: \")"
   ]
  },
  {
   "cell_type": "code",
   "execution_count": null,
   "metadata": {},
   "outputs": [],
   "source": [
    "opinions = pd.read_json(f\"./opinions/{product_id}.json\")\n",
    "opinions"
   ]
  },
  {
   "cell_type": "markdown",
   "metadata": {},
   "source": [
    "### Basic statistics"
   ]
  },
  {
   "cell_type": "code",
   "execution_count": null,
   "metadata": {},
   "outputs": [],
   "source": [
    "opinions_count = opinions.shape[0]\n",
    "average_rate = round(opinions[\"stars\"].mean(), 1)\n",
    "pros_count = opinions[\"pros\"].astype(bool).sum()\n",
    "cons_count = opinions[\"cons\"].astype(bool).sum()\n",
    "pros_cons_count = opinions.apply(lambda x: bool(x[\"pros\"]) and bool(x[\"cons\"]), axis=1).sum()\n",
    "\n",
    "\n",
    "\n",
    "print(\"Number of opinions:\", opinions_count)\n",
    "print(\"The average rate for the prodcut is:\", average_rate)\n",
    "print(\"Number of opinions in which adventages have been listed: \", pros_count)\n",
    "print(\"Number of opinions in which disadventages have been listed: \", cons_count)\n",
    "print(\"Number of both opinions in which disadventages and advantages have been listed: \", pros_cons_count)"
   ]
  },
  {
   "cell_type": "code",
   "execution_count": null,
   "metadata": {},
   "outputs": [],
   "source": [
    "pros = opinions[\"pros_en\"].explode().value_counts()\n",
    "cons = opinions[\"cons_en\"].explode().value_counts()\n",
    "\n",
    "print(pros)\n",
    "print(cons)\n",
    "#"
   ]
  },
  {
   "cell_type": "code",
   "execution_count": null,
   "metadata": {},
   "outputs": [],
   "source": [
    "pros"
   ]
  },
  {
   "cell_type": "markdown",
   "metadata": {},
   "source": [
    "### Charts"
   ]
  },
  {
   "cell_type": "code",
   "execution_count": 52,
   "metadata": {},
   "outputs": [],
   "source": [
    "if not os.path.exists(\"./pie_charts\"):\n",
    "    os.mkdir(\"./pie_charts\")\n",
    "\n",
    "if not os.path.exists(\"./bar_charts\"):\n",
    "    os.mkdir(\"./bar_charts\")"
   ]
  },
  {
   "cell_type": "code",
   "execution_count": null,
   "metadata": {},
   "outputs": [],
   "source": [
    "recommendations = opinions[\"recommendation\"].value_counts(dropna=False)\n",
    "recommendations"
   ]
  },
  {
   "cell_type": "code",
   "execution_count": 54,
   "metadata": {},
   "outputs": [],
   "source": [
    "recommendations.plot.pie(\n",
    "    title = f\" Share of recommendatiob in the total number of opinins about product {product_id}\",\n",
    "    labels =  {1.0 : \"Recommend\", None: \"No info\", 0.0: \"No recommend\"},\n",
    "    label = \"\",\n",
    "    autopct = lambda x: f\"{x:.1f}%\" if x > 0 else \"\",\n",
    "    colors = [\"forestgreen\", \"silver\", \"crimson\"],\n",
    ")\n",
    "\n",
    "plt.savefig(f\"./pie_charts/{product_id}.png\")\n",
    "plt.close()"
   ]
  },
  {
   "cell_type": "code",
   "execution_count": null,
   "metadata": {},
   "outputs": [],
   "source": [
    "import numpy as np\n",
    "\n",
    "\n",
    "stars = opinions[\"stars\"].value_counts().reindex(list(np.arange(0, 5, 0.5)), fill_value=0).sort_index()\n",
    "stars\n"
   ]
  },
  {
   "cell_type": "code",
   "execution_count": 56,
   "metadata": {},
   "outputs": [],
   "source": [
    "ax = stars.plot.bar(\n",
    "    title = f\" Number of opinions about product {product_id}\",\n",
    "    xlabel=\"Number of stars\",\n",
    "    ylabel=\"Count of rates\",\n",
    "    color = [\"crimson\" if x < 3 else \"forestgreen\" if x>3.5 else \"silver\" for x in stars.index]\n",
    ")\n",
    "plt.xticks(rotation=0)\n",
    "plt.bar_label(container=ax.containers[0])\n",
    "plt.savefig(f\"./bar_charts/{product_id}.png\")\n",
    "plt.close()#"
   ]
  },
  {
   "cell_type": "code",
   "execution_count": null,
   "metadata": {},
   "outputs": [],
   "source": []
  },
  {
   "cell_type": "code",
   "execution_count": null,
   "metadata": {},
   "outputs": [],
   "source": []
  }
 ],
 "metadata": {
  "kernelspec": {
   "display_name": ".venv",
   "language": "python",
   "name": "python3"
  },
  "language_info": {
   "codemirror_mode": {
    "name": "ipython",
    "version": 3
   },
   "file_extension": ".py",
   "mimetype": "text/x-python",
   "name": "python",
   "nbconvert_exporter": "python",
   "pygments_lexer": "ipython3",
   "version": "3.11.4"
  }
 },
 "nbformat": 4,
 "nbformat_minor": 2
}
