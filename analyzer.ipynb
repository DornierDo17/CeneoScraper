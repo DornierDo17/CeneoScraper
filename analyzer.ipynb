{
 "cells": [
  {
   "cell_type": "markdown",
   "metadata": {},
   "source": [
    "### Imports\n"
   ]
  },
  {
   "cell_type": "code",
   "execution_count": 45,
   "metadata": {},
   "outputs": [],
   "source": [
    "import os\n",
    "import pandas as pd\n",
    "import numpy as np\n",
    "import matplotlib.pyplot as plt "
   ]
  },
  {
   "cell_type": "markdown",
   "metadata": {},
   "source": [
    "### Loading opinions from json file "
   ]
  },
  {
   "cell_type": "code",
   "execution_count": 46,
   "metadata": {},
   "outputs": [
    {
     "name": "stdout",
     "output_type": "stream",
     "text": [
      "84514582\n"
     ]
    }
   ],
   "source": [
    "print(*[filename.split(\".\")[0] for filename in os.listdir(\"opinions\")], sep=\"\\n\")"
   ]
  },
  {
   "cell_type": "code",
   "execution_count": 47,
   "metadata": {},
   "outputs": [],
   "source": [
    "product_id = input(\"Enter product code please: \")"
   ]
  },
  {
   "cell_type": "code",
   "execution_count": 48,
   "metadata": {},
   "outputs": [
    {
     "data": {
      "text/html": [
       "<div>\n",
       "<style scoped>\n",
       "    .dataframe tbody tr th:only-of-type {\n",
       "        vertical-align: middle;\n",
       "    }\n",
       "\n",
       "    .dataframe tbody tr th {\n",
       "        vertical-align: top;\n",
       "    }\n",
       "\n",
       "    .dataframe thead th {\n",
       "        text-align: right;\n",
       "    }\n",
       "</style>\n",
       "<table border=\"1\" class=\"dataframe\">\n",
       "  <thead>\n",
       "    <tr style=\"text-align: right;\">\n",
       "      <th></th>\n",
       "      <th>opinion_id</th>\n",
       "      <th>author</th>\n",
       "      <th>recommendation</th>\n",
       "      <th>stars</th>\n",
       "      <th>content</th>\n",
       "      <th>pros</th>\n",
       "      <th>cons</th>\n",
       "      <th>vote_yes</th>\n",
       "      <th>vote_no</th>\n",
       "      <th>published</th>\n",
       "      <th>purchased</th>\n",
       "      <th>content_en</th>\n",
       "      <th>pros_en</th>\n",
       "      <th>cons_en</th>\n",
       "    </tr>\n",
       "  </thead>\n",
       "  <tbody>\n",
       "    <tr>\n",
       "      <th>0</th>\n",
       "      <td>12535429</td>\n",
       "      <td>g...6</td>\n",
       "      <td>NaN</td>\n",
       "      <td>3.0</td>\n",
       "      <td>Instalacja łatwa. Oprogramowanie HP Smart bezp...</td>\n",
       "      <td>[czyste napełnianie atramentem, niski koszt wy...</td>\n",
       "      <td>[jakość wydruków]</td>\n",
       "      <td>19</td>\n",
       "      <td>3</td>\n",
       "      <td>2020-05-28 08:02:51</td>\n",
       "      <td>2020-05-04 22:29:44</td>\n",
       "      <td>Easy installation. HP Smart software trouble -...</td>\n",
       "      <td>[pure ink filling, low print cost, print speed...</td>\n",
       "      <td>[Print quality]</td>\n",
       "    </tr>\n",
       "    <tr>\n",
       "      <th>1</th>\n",
       "      <td>13551598</td>\n",
       "      <td>b...a</td>\n",
       "      <td>1.0</td>\n",
       "      <td>4.0</td>\n",
       "      <td>Wykonana dobrze, trochę za duża, z ledwością m...</td>\n",
       "      <td>[czyste napełnianie atramentem, głośność pracy]</td>\n",
       "      <td>[]</td>\n",
       "      <td>3</td>\n",
       "      <td>3</td>\n",
       "      <td>2020-12-10 19:41:04</td>\n",
       "      <td>2020-12-04 21:02:01</td>\n",
       "      <td>Made well, a bit too big, it barely fits on my...</td>\n",
       "      <td>[pure ink filling, volume of work]</td>\n",
       "      <td>[]</td>\n",
       "    </tr>\n",
       "    <tr>\n",
       "      <th>2</th>\n",
       "      <td>18299406</td>\n",
       "      <td>U...o</td>\n",
       "      <td>1.0</td>\n",
       "      <td>4.5</td>\n",
       "      <td>Po 1 dniu uzytkowania mozna stwierdzic 1-polac...</td>\n",
       "      <td>[czyste napełnianie atramentem, jakość wydrukó...</td>\n",
       "      <td>[głośność pracy]</td>\n",
       "      <td>0</td>\n",
       "      <td>0</td>\n",
       "      <td>2024-01-12 21:03:08</td>\n",
       "      <td>2024-01-09 18:20:01</td>\n",
       "      <td>After 1 day of use\\n2-tank tank-attempt\\n3-Mon...</td>\n",
       "      <td>[pure ink filling, Print quality, Print qualit...</td>\n",
       "      <td>[volume of work]</td>\n",
       "    </tr>\n",
       "    <tr>\n",
       "      <th>3</th>\n",
       "      <td>15226709</td>\n",
       "      <td>k...l</td>\n",
       "      <td>1.0</td>\n",
       "      <td>4.0</td>\n",
       "      <td>Wszystko z opisu się zgadza. Baaardzo ekonomic...</td>\n",
       "      <td>[]</td>\n",
       "      <td>[]</td>\n",
       "      <td>3</td>\n",
       "      <td>0</td>\n",
       "      <td>2021-11-18 17:47:41</td>\n",
       "      <td>2021-11-01 18:36:33</td>\n",
       "      <td>Everything in the description is correct. Very...</td>\n",
       "      <td>[]</td>\n",
       "      <td>[]</td>\n",
       "    </tr>\n",
       "    <tr>\n",
       "      <th>4</th>\n",
       "      <td>13501735</td>\n",
       "      <td>g...k</td>\n",
       "      <td>NaN</td>\n",
       "      <td>3.5</td>\n",
       "      <td>produkt na wstępie nie ruszył bo był problem z...</td>\n",
       "      <td>[jakość wydruków, jakość wydruku, szybkość wyd...</td>\n",
       "      <td>[głośność pracy]</td>\n",
       "      <td>4</td>\n",
       "      <td>0</td>\n",
       "      <td>2020-12-04 00:11:48</td>\n",
       "      <td>2020-11-17 18:04:01</td>\n",
       "      <td>The product did not move at the beginning beca...</td>\n",
       "      <td>[Print quality, Print quality, print speed]</td>\n",
       "      <td>[volume of work]</td>\n",
       "    </tr>\n",
       "    <tr>\n",
       "      <th>...</th>\n",
       "      <td>...</td>\n",
       "      <td>...</td>\n",
       "      <td>...</td>\n",
       "      <td>...</td>\n",
       "      <td>...</td>\n",
       "      <td>...</td>\n",
       "      <td>...</td>\n",
       "      <td>...</td>\n",
       "      <td>...</td>\n",
       "      <td>...</td>\n",
       "      <td>...</td>\n",
       "      <td>...</td>\n",
       "      <td>...</td>\n",
       "      <td>...</td>\n",
       "    </tr>\n",
       "    <tr>\n",
       "      <th>81</th>\n",
       "      <td>13466015</td>\n",
       "      <td>w...d</td>\n",
       "      <td>0.0</td>\n",
       "      <td>1.0</td>\n",
       "      <td>badziew</td>\n",
       "      <td>[]</td>\n",
       "      <td>[]</td>\n",
       "      <td>1</td>\n",
       "      <td>0</td>\n",
       "      <td>2020-11-28 17:08:14</td>\n",
       "      <td>2020-10-28 14:03:29</td>\n",
       "      <td>crap</td>\n",
       "      <td>[]</td>\n",
       "      <td>[]</td>\n",
       "    </tr>\n",
       "    <tr>\n",
       "      <th>82</th>\n",
       "      <td>15730485</td>\n",
       "      <td>b...o</td>\n",
       "      <td>0.0</td>\n",
       "      <td>2.0</td>\n",
       "      <td>POLECAM</td>\n",
       "      <td>[]</td>\n",
       "      <td>[]</td>\n",
       "      <td>0</td>\n",
       "      <td>0</td>\n",
       "      <td>2022-02-21 10:21:10</td>\n",
       "      <td>2022-02-14 08:19:16</td>\n",
       "      <td>I RECOMMEND</td>\n",
       "      <td>[]</td>\n",
       "      <td>[]</td>\n",
       "    </tr>\n",
       "    <tr>\n",
       "      <th>83</th>\n",
       "      <td>15798075</td>\n",
       "      <td>b...o</td>\n",
       "      <td>0.0</td>\n",
       "      <td>0.5</td>\n",
       "      <td>polecam</td>\n",
       "      <td>[]</td>\n",
       "      <td>[]</td>\n",
       "      <td>0</td>\n",
       "      <td>1</td>\n",
       "      <td>2022-03-09 11:10:06</td>\n",
       "      <td>2022-03-08 11:01:43</td>\n",
       "      <td>I recommend</td>\n",
       "      <td>[]</td>\n",
       "      <td>[]</td>\n",
       "    </tr>\n",
       "    <tr>\n",
       "      <th>84</th>\n",
       "      <td>11644241</td>\n",
       "      <td>Użytkownik Ceneo</td>\n",
       "      <td>0.0</td>\n",
       "      <td>1.0</td>\n",
       "      <td>Koszmar. Zmuszenie jej do wydruku graniczy z c...</td>\n",
       "      <td>[]</td>\n",
       "      <td>[]</td>\n",
       "      <td>3</td>\n",
       "      <td>1</td>\n",
       "      <td>2020-01-26 21:28:27</td>\n",
       "      <td>None</td>\n",
       "      <td>Nightmare. Forcing her to print borders on a m...</td>\n",
       "      <td>[]</td>\n",
       "      <td>[]</td>\n",
       "    </tr>\n",
       "    <tr>\n",
       "      <th>85</th>\n",
       "      <td>11818859</td>\n",
       "      <td>Użytkownik Ceneo</td>\n",
       "      <td>0.0</td>\n",
       "      <td>2.5</td>\n",
       "      <td>Po około miesiącu od zakupu i drugim uruchomie...</td>\n",
       "      <td>[wydajność]</td>\n",
       "      <td>[]</td>\n",
       "      <td>2</td>\n",
       "      <td>0</td>\n",
       "      <td>2020-02-27 23:47:28</td>\n",
       "      <td>None</td>\n",
       "      <td>About a month after the purchase and the secon...</td>\n",
       "      <td>[efficiency]</td>\n",
       "      <td>[]</td>\n",
       "    </tr>\n",
       "  </tbody>\n",
       "</table>\n",
       "<p>86 rows × 14 columns</p>\n",
       "</div>"
      ],
      "text/plain": [
       "    opinion_id            author  recommendation  stars  \\\n",
       "0     12535429             g...6             NaN    3.0   \n",
       "1     13551598             b...a             1.0    4.0   \n",
       "2     18299406             U...o             1.0    4.5   \n",
       "3     15226709             k...l             1.0    4.0   \n",
       "4     13501735             g...k             NaN    3.5   \n",
       "..         ...               ...             ...    ...   \n",
       "81    13466015             w...d             0.0    1.0   \n",
       "82    15730485             b...o             0.0    2.0   \n",
       "83    15798075             b...o             0.0    0.5   \n",
       "84    11644241  Użytkownik Ceneo             0.0    1.0   \n",
       "85    11818859  Użytkownik Ceneo             0.0    2.5   \n",
       "\n",
       "                                              content  \\\n",
       "0   Instalacja łatwa. Oprogramowanie HP Smart bezp...   \n",
       "1   Wykonana dobrze, trochę za duża, z ledwością m...   \n",
       "2   Po 1 dniu uzytkowania mozna stwierdzic 1-polac...   \n",
       "3   Wszystko z opisu się zgadza. Baaardzo ekonomic...   \n",
       "4   produkt na wstępie nie ruszył bo był problem z...   \n",
       "..                                                ...   \n",
       "81                                            badziew   \n",
       "82                                            POLECAM   \n",
       "83                                            polecam   \n",
       "84  Koszmar. Zmuszenie jej do wydruku graniczy z c...   \n",
       "85  Po około miesiącu od zakupu i drugim uruchomie...   \n",
       "\n",
       "                                                 pros               cons  \\\n",
       "0   [czyste napełnianie atramentem, niski koszt wy...  [jakość wydruków]   \n",
       "1     [czyste napełnianie atramentem, głośność pracy]                 []   \n",
       "2   [czyste napełnianie atramentem, jakość wydrukó...   [głośność pracy]   \n",
       "3                                                  []                 []   \n",
       "4   [jakość wydruków, jakość wydruku, szybkość wyd...   [głośność pracy]   \n",
       "..                                                ...                ...   \n",
       "81                                                 []                 []   \n",
       "82                                                 []                 []   \n",
       "83                                                 []                 []   \n",
       "84                                                 []                 []   \n",
       "85                                        [wydajność]                 []   \n",
       "\n",
       "    vote_yes  vote_no            published            purchased  \\\n",
       "0         19        3  2020-05-28 08:02:51  2020-05-04 22:29:44   \n",
       "1          3        3  2020-12-10 19:41:04  2020-12-04 21:02:01   \n",
       "2          0        0  2024-01-12 21:03:08  2024-01-09 18:20:01   \n",
       "3          3        0  2021-11-18 17:47:41  2021-11-01 18:36:33   \n",
       "4          4        0  2020-12-04 00:11:48  2020-11-17 18:04:01   \n",
       "..       ...      ...                  ...                  ...   \n",
       "81         1        0  2020-11-28 17:08:14  2020-10-28 14:03:29   \n",
       "82         0        0  2022-02-21 10:21:10  2022-02-14 08:19:16   \n",
       "83         0        1  2022-03-09 11:10:06  2022-03-08 11:01:43   \n",
       "84         3        1  2020-01-26 21:28:27                 None   \n",
       "85         2        0  2020-02-27 23:47:28                 None   \n",
       "\n",
       "                                           content_en  \\\n",
       "0   Easy installation. HP Smart software trouble -...   \n",
       "1   Made well, a bit too big, it barely fits on my...   \n",
       "2   After 1 day of use\\n2-tank tank-attempt\\n3-Mon...   \n",
       "3   Everything in the description is correct. Very...   \n",
       "4   The product did not move at the beginning beca...   \n",
       "..                                                ...   \n",
       "81                                               crap   \n",
       "82                                        I RECOMMEND   \n",
       "83                                        I recommend   \n",
       "84  Nightmare. Forcing her to print borders on a m...   \n",
       "85  About a month after the purchase and the secon...   \n",
       "\n",
       "                                              pros_en           cons_en  \n",
       "0   [pure ink filling, low print cost, print speed...   [Print quality]  \n",
       "1                  [pure ink filling, volume of work]                []  \n",
       "2   [pure ink filling, Print quality, Print qualit...  [volume of work]  \n",
       "3                                                  []                []  \n",
       "4         [Print quality, Print quality, print speed]  [volume of work]  \n",
       "..                                                ...               ...  \n",
       "81                                                 []                []  \n",
       "82                                                 []                []  \n",
       "83                                                 []                []  \n",
       "84                                                 []                []  \n",
       "85                                       [efficiency]                []  \n",
       "\n",
       "[86 rows x 14 columns]"
      ]
     },
     "execution_count": 48,
     "metadata": {},
     "output_type": "execute_result"
    }
   ],
   "source": [
    "opinions = pd.read_json(f\"./opinions/{product_id}.json\")\n",
    "opinions"
   ]
  },
  {
   "cell_type": "markdown",
   "metadata": {},
   "source": [
    "### Basic statistics"
   ]
  },
  {
   "cell_type": "code",
   "execution_count": 49,
   "metadata": {},
   "outputs": [
    {
     "name": "stdout",
     "output_type": "stream",
     "text": [
      "Number of opinions: 86\n",
      "The average rate for the prodcut is: 4.4\n",
      "Number of opinions in which adventages have been listed:  40\n",
      "Number of opinions in which disadventages have been listed:  10\n",
      "Number of both opinions in which disadventages and advantages have been listed:  8\n"
     ]
    }
   ],
   "source": [
    "opinions_count = opinions.shape[0]\n",
    "average_rate = round(opinions[\"stars\"].mean(), 1)\n",
    "pros_count = opinions[\"pros\"].astype(bool).sum()\n",
    "cons_count = opinions[\"cons\"].astype(bool).sum()\n",
    "pros_cons_count = opinions.apply(lambda x: bool(x[\"pros\"]) and bool(x[\"cons\"]), axis=1).sum()\n",
    "\n",
    "\n",
    "\n",
    "print(\"Number of opinions:\", opinions_count)\n",
    "print(\"The average rate for the prodcut is:\", average_rate)\n",
    "print(\"Number of opinions in which adventages have been listed: \", pros_count)\n",
    "print(\"Number of opinions in which disadventages have been listed: \", cons_count)\n",
    "print(\"Number of both opinions in which disadventages and advantages have been listed: \", pros_cons_count)"
   ]
  },
  {
   "cell_type": "code",
   "execution_count": 50,
   "metadata": {},
   "outputs": [
    {
     "name": "stdout",
     "output_type": "stream",
     "text": [
      "pros_en\n",
      "Print quality          62\n",
      "print speed            33\n",
      "volume of work         23\n",
      "efficiency             15\n",
      "pure ink filling       11\n",
      "efficient              10\n",
      "low print cost          9\n",
      "cheap ink               4\n",
      "Printing via e-mail     3\n",
      "modernity               3\n",
      "excellent design        2\n",
      "innovation              2\n",
      "Document feeder         1\n",
      "It takes few places     1\n",
      "Name: count, dtype: int64\n",
      "cons_en\n",
      "volume of work    7\n",
      "Print quality     5\n",
      "print speed       4\n",
      "Name: count, dtype: int64\n"
     ]
    }
   ],
   "source": [
    "pros = opinions[\"pros_en\"].explode().value_counts()\n",
    "cons = opinions[\"cons_en\"].explode().value_counts()\n",
    "\n",
    "print(pros)\n",
    "print(cons)\n",
    "#"
   ]
  },
  {
   "cell_type": "code",
   "execution_count": 51,
   "metadata": {},
   "outputs": [
    {
     "data": {
      "text/plain": [
       "pros_en\n",
       "Print quality          62\n",
       "print speed            33\n",
       "volume of work         23\n",
       "efficiency             15\n",
       "pure ink filling       11\n",
       "efficient              10\n",
       "low print cost          9\n",
       "cheap ink               4\n",
       "Printing via e-mail     3\n",
       "modernity               3\n",
       "excellent design        2\n",
       "innovation              2\n",
       "Document feeder         1\n",
       "It takes few places     1\n",
       "Name: count, dtype: int64"
      ]
     },
     "execution_count": 51,
     "metadata": {},
     "output_type": "execute_result"
    }
   ],
   "source": [
    "pros"
   ]
  },
  {
   "cell_type": "markdown",
   "metadata": {},
   "source": [
    "### Charts"
   ]
  },
  {
   "cell_type": "code",
   "execution_count": 52,
   "metadata": {},
   "outputs": [],
   "source": [
    "if not os.path.exists(\"./pie_charts\"):\n",
    "    os.mkdir(\"./pie_charts\")\n",
    "\n",
    "if not os.path.exists(\"./bar_charts\"):\n",
    "    os.mkdir(\"./bar_charts\")"
   ]
  },
  {
   "cell_type": "code",
   "execution_count": 53,
   "metadata": {},
   "outputs": [
    {
     "data": {
      "text/plain": [
       "recommendation\n",
       "1.0    73\n",
       "0.0     7\n",
       "NaN     6\n",
       "Name: count, dtype: int64"
      ]
     },
     "execution_count": 53,
     "metadata": {},
     "output_type": "execute_result"
    }
   ],
   "source": [
    "recommendations = opinions[\"recommendation\"].value_counts(dropna=False)\n",
    "recommendations"
   ]
  },
  {
   "cell_type": "code",
   "execution_count": 54,
   "metadata": {},
   "outputs": [],
   "source": [
    "recommendations.plot.pie(\n",
    "    title = f\" Share of recommendatiob in the total number of opinins about product {product_id}\",\n",
    "    labels =  {1.0 : \"Recommend\", None: \"No info\", 0.0: \"No recommend\"},\n",
    "    label = \"\",\n",
    "    autopct = lambda x: f\"{x:.1f}%\" if x > 0 else \"\",\n",
    "    colors = [\"forestgreen\", \"silver\", \"crimson\"],\n",
    ")\n",
    "\n",
    "plt.savefig(f\"./pie_charts/{product_id}.png\")\n",
    "plt.close()"
   ]
  },
  {
   "cell_type": "code",
   "execution_count": 55,
   "metadata": {},
   "outputs": [
    {
     "data": {
      "text/plain": [
       "stars\n",
       "0.0     0\n",
       "0.5     2\n",
       "1.0     3\n",
       "1.5     0\n",
       "2.0     1\n",
       "2.5     1\n",
       "3.0     3\n",
       "3.5     3\n",
       "4.0    12\n",
       "4.5     9\n",
       "Name: count, dtype: int64"
      ]
     },
     "execution_count": 55,
     "metadata": {},
     "output_type": "execute_result"
    }
   ],
   "source": [
    "import numpy as np\n",
    "\n",
    "\n",
    "stars = opinions[\"stars\"].value_counts().reindex(list(np.arange(0, 5, 0.5)), fill_value=0).sort_index()\n",
    "stars\n"
   ]
  },
  {
   "cell_type": "code",
   "execution_count": 56,
   "metadata": {},
   "outputs": [],
   "source": [
    "ax = stars.plot.bar(\n",
    "    title = f\" Number of opinions about product {product_id}\",\n",
    "    xlabel=\"Number of stars\",\n",
    "    ylabel=\"Count of rates\",\n",
    "    color = [\"crimson\" if x < 3 else \"forestgreen\" if x>3.5 else \"silver\" for x in stars.index]\n",
    ")\n",
    "plt.xticks(rotation=0)\n",
    "plt.bar_label(container=ax.containers[0])\n",
    "plt.savefig(f\"./bar_charts/{product_id}.png\")\n",
    "plt.close()"
   ]
  },
  {
   "cell_type": "code",
   "execution_count": null,
   "metadata": {},
   "outputs": [],
   "source": []
  },
  {
   "cell_type": "code",
   "execution_count": null,
   "metadata": {},
   "outputs": [],
   "source": []
  }
 ],
 "metadata": {
  "kernelspec": {
   "display_name": ".venv",
   "language": "python",
   "name": "python3"
  },
  "language_info": {
   "codemirror_mode": {
    "name": "ipython",
    "version": 3
   },
   "file_extension": ".py",
   "mimetype": "text/x-python",
   "name": "python",
   "nbconvert_exporter": "python",
   "pygments_lexer": "ipython3",
   "version": "3.11.4"
  }
 },
 "nbformat": 4,
 "nbformat_minor": 2
}
